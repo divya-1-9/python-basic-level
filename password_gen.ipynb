{
  "nbformat": 4,
  "nbformat_minor": 0,
  "metadata": {
    "colab": {
      "provenance": [],
      "authorship_tag": "ABX9TyPkBjxvOSezLoKM5YW9Sqn/",
      "include_colab_link": true
    },
    "kernelspec": {
      "name": "python3",
      "display_name": "Python 3"
    },
    "language_info": {
      "name": "python"
    }
  },
  "cells": [
    {
      "cell_type": "markdown",
      "metadata": {
        "id": "view-in-github",
        "colab_type": "text"
      },
      "source": [
        "<a href=\"https://colab.research.google.com/github/divya-1-9/python-basic-level/blob/main/password_gen.ipynb\" target=\"_parent\"><img src=\"https://colab.research.google.com/assets/colab-badge.svg\" alt=\"Open In Colab\"/></a>"
      ]
    },
    {
      "cell_type": "code",
      "execution_count": 1,
      "metadata": {
        "colab": {
          "base_uri": "https://localhost:8080/"
        },
        "id": "VQhr0Qz2a_Sw",
        "outputId": "9fc317d8-ec4a-44e3-c2a6-13b6319d2e92"
      },
      "outputs": [
        {
          "output_type": "stream",
          "name": "stdout",
          "text": [
            "How many passwords do you want to generate? 3\n",
            "Generating 3 passwords\n",
            "Minimum length of password should be 3\n",
            "Enter the length of Password #1 2\n",
            "Enter the length of Password #2 3\n",
            "Enter the length of Password #3 4\n",
            "Password #1 = P4r\n",
            "Password #2 = 7At\n",
            "Password #3 = G8ft\n"
          ]
        }
      ],
      "source": [
        "import random\n",
        "\n",
        "def generatePassword(pwlengths):\n",
        "    alphabet = \"abcdefghijklmnopqrstuvwxyz\"\n",
        "    passwords = []\n",
        "\n",
        "    for length in pwlengths:\n",
        "        password = \"\"\n",
        "        for _ in range(length):\n",
        "            next_letter_index = random.randrange(len(alphabet))\n",
        "            password += alphabet[next_letter_index]\n",
        "\n",
        "        password = replaceWithNumber(password)\n",
        "        password = replaceWithUppercaseLetter(password)\n",
        "\n",
        "        passwords.append(password)\n",
        "\n",
        "    return passwords\n",
        "\n",
        "def replaceWithNumber(pword):\n",
        "    replace_index = random.randrange(len(pword))\n",
        "    return pword[:replace_index] + str(random.randrange(10)) + pword[replace_index+1:]\n",
        "\n",
        "def replaceWithUppercaseLetter(pword):\n",
        "    replace_index = random.randrange(len(pword))\n",
        "    return pword[:replace_index] + pword[replace_index].upper() + pword[replace_index+1:]\n",
        "\n",
        "def main():\n",
        "    numPasswords = int(input(\"How many passwords do you want to generate? \"))\n",
        "    print(\"Generating \" + str(numPasswords) + \" passwords\")\n",
        "\n",
        "    passwordLengths = []\n",
        "\n",
        "    print(\"Minimum length of password should be 3\")\n",
        "\n",
        "    for i in range(numPasswords):\n",
        "        length = int(input(\"Enter the length of Password #\" + str(i+1) + \" \"))\n",
        "        if length < 3:\n",
        "            length = 3\n",
        "        passwordLengths.append(length)\n",
        "\n",
        "    Passwords = generatePassword(passwordLengths)\n",
        "\n",
        "    for i, password in enumerate(Passwords):\n",
        "        print(\"Password #\" + str(i+1) + \" = \" + password)\n",
        "\n",
        "main()"
      ]
    }
  ]
}